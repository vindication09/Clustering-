{
 "cells": [
  {
   "cell_type": "markdown",
   "metadata": {},
   "source": [
    "# Modeling C-Suites \n",
    "\n",
    "This is going to be a demo of the modeling process from start to finish. We are going to take in all of the learnings from our last session and apply them. We will talk through some of the methods and places where the process could be improved. We are going to be modeling C-Suites. Recall the data science workflow from our last session:\n",
    "\n",
    "* Problem Identification\n",
    "* Data Gathering\n",
    "* Data Cleaning\n",
    "* Exploration\n",
    "* Feature Engineering\n",
    "* Normalizations and Transformations\n",
    "* Model\n",
    "* Validate\n",
    "* Deploy/Interpret\n",
    "\n",
    "It might not be possible to demonstrate each step in a single session to we may need to cover this demo in two sessions. We will see. Lets break down what we have so far. \n",
    "\n",
    "## Problem Identification\n",
    "What - We want to create a platform segment of modeled CSuites \n",
    "How - Using Bombora's third party, we will build and validate a classification model where our target/label variable are C-Suites or Non-CSuites. We will then deploy our model against a Non-Labeled data subset and create a platform segment based off some scoring using our best model. We will push this segment back to BQ (Deployment) and follow the platform segment steps. \n",
    "\n",
    "## Data Gathering \n",
    "We will use Bombora's CSuite datapoint to create a label vector of users who are known CSuite. We will define the label to be a 1 if user is CSuite and 0 otherwise. We will then grab 1st party data points for each of the users joining on user ID. Each feature has been filtered to only include those which have at least 2 page views or more. \n",
    "\n",
    "SQL: https://github.com/vindication09/Clustering-/blob/master/Notebook_lessons/CSUITES%20blackbox%20modeling%20demo.sql\n",
    "\n",
    "## Data Cleaning \n",
    "We applied some initial data cleaning in the above step. We made sure a user could only have one label. We also removed features which were empty and null. We next need to convert the data from wide to long format by making each categorical value a dummy variable. \n",
    "\n",
    "Lets bring in the packages we will be using to carry out this workflow and bring in the data from our tables in BigQuery."
   ]
  },
  {
   "cell_type": "code",
   "execution_count": 22,
   "metadata": {},
   "outputs": [],
   "source": [
    "from google.cloud import bigquery\n",
    "\n",
    "import pandas as pd\n",
    "\n",
    "import numpy as np\n",
    "\n",
    "import matplotlib.pyplot as plt \n",
    "\n",
    "from sklearn.model_selection import train_test_split\n",
    "\n",
    "from sklearn.preprocessing import OneHotEncoder\n",
    "\n",
    "import category_encoders as ce\n",
    "\n",
    "from sklearn.feature_selection import VarianceThreshold\n",
    "\n",
    "from sklearn.model_selection import train_test_split\n",
    "\n",
    "from sklearn.datasets import make_classification\n",
    "\n",
    "from sklearn.ensemble import ExtraTreesClassifier\n",
    "\n",
    "from numpy import unique\n",
    "\n",
    "from sklearn.linear_model import LogisticRegression\n",
    "\n",
    "from sklearn import metrics\n",
    "\n",
    "from sklearn.ensemble import RandomForestClassifier\n",
    "\n",
    "from sklearn.svm import SVC\n",
    "\n",
    "from sklearn.neighbors import KNeighborsClassifier\n",
    "\n",
    "from sklearn.naive_bayes import GaussianNB\n",
    "\n",
    "from sklearn.naive_bayes import BernoulliNB\n",
    "\n",
    "import seaborn as sns\n",
    "\n",
    "from sklearn.metrics import confusion_matrix,classification_report,precision_score"
   ]
  },
  {
   "cell_type": "code",
   "execution_count": 2,
   "metadata": {},
   "outputs": [
    {
     "name": "stdout",
     "output_type": "stream",
     "text": [
      "Client creating using default project: media-data-science\n"
     ]
    }
   ],
   "source": [
    "client = bigquery.Client(location=\"US\")\n",
    "\n",
    "print(\"Client creating using default project: {}\".format(client.project))\n",
    "\n",
    "query = \"\"\"\n",
    "    SELECT *\n",
    "    FROM `media-data-science.Haro_Work.aprmay_csuites_modelingdata`\n",
    "    \"\"\"\n",
    "\n",
    "query_job = client.query(\n",
    "    query,\n",
    "    # Location must match that of the dataset(s) referenced in the query.\n",
    "    location=\"US\",\n",
    ")  # API request - starts the query\n",
    "\n",
    "\n",
    "df = query_job.to_dataframe()"
   ]
  },
  {
   "cell_type": "markdown",
   "metadata": {},
   "source": [
    "The following code will check missing data. We should not have any missing data since we accounted for that in the SQL. We will also look at some of the metdata such as number of rows and columns. \n",
    "\n",
    "As part of our cleaning, we will also go ahead and make every value a dummy column. Keep in mind that this will greatly increase the dimension of your dataframe but at this point, I do not anticipate us keeping many of the variables. We will not use dummy variables for the EDA portion but rather to jeep on the side for when we start modeling. "
   ]
  },
  {
   "cell_type": "code",
   "execution_count": 3,
   "metadata": {},
   "outputs": [
    {
     "data": {
      "text/html": [
       "<div>\n",
       "<style scoped>\n",
       "    .dataframe tbody tr th:only-of-type {\n",
       "        vertical-align: middle;\n",
       "    }\n",
       "\n",
       "    .dataframe tbody tr th {\n",
       "        vertical-align: top;\n",
       "    }\n",
       "\n",
       "    .dataframe thead th {\n",
       "        text-align: right;\n",
       "    }\n",
       "</style>\n",
       "<table border=\"1\" class=\"dataframe\">\n",
       "  <thead>\n",
       "    <tr style=\"text-align: right;\">\n",
       "      <th></th>\n",
       "      <th>target</th>\n",
       "      <th>value</th>\n",
       "    </tr>\n",
       "  </thead>\n",
       "  <tbody>\n",
       "    <tr>\n",
       "      <th>0</th>\n",
       "      <td>0</td>\n",
       "      <td>law</td>\n",
       "    </tr>\n",
       "    <tr>\n",
       "      <th>1</th>\n",
       "      <td>0</td>\n",
       "      <td>business/news/graphics</td>\n",
       "    </tr>\n",
       "    <tr>\n",
       "      <th>2</th>\n",
       "      <td>0</td>\n",
       "      <td>farming</td>\n",
       "    </tr>\n",
       "    <tr>\n",
       "      <th>3</th>\n",
       "      <td>0</td>\n",
       "      <td>taxes</td>\n",
       "    </tr>\n",
       "    <tr>\n",
       "      <th>4</th>\n",
       "      <td>0</td>\n",
       "      <td>stocks</td>\n",
       "    </tr>\n",
       "  </tbody>\n",
       "</table>\n",
       "</div>"
      ],
      "text/plain": [
       "   target                   value\n",
       "0       0                     law\n",
       "1       0  business/news/graphics\n",
       "2       0                 farming\n",
       "3       0                   taxes\n",
       "4       0                  stocks"
      ]
     },
     "execution_count": 3,
     "metadata": {},
     "output_type": "execute_result"
    }
   ],
   "source": [
    "df.head()"
   ]
  },
  {
   "cell_type": "code",
   "execution_count": 4,
   "metadata": {},
   "outputs": [
    {
     "name": "stdout",
     "output_type": "stream",
     "text": [
      "<class 'pandas.core.frame.DataFrame'>\n",
      "RangeIndex: 4328 entries, 0 to 4327\n",
      "Data columns (total 2 columns):\n",
      " #   Column  Non-Null Count  Dtype \n",
      "---  ------  --------------  ----- \n",
      " 0   target  4328 non-null   int64 \n",
      " 1   value   4328 non-null   object\n",
      "dtypes: int64(1), object(1)\n",
      "memory usage: 67.8+ KB\n"
     ]
    }
   ],
   "source": [
    "df.info()"
   ]
  },
  {
   "cell_type": "code",
   "execution_count": 5,
   "metadata": {},
   "outputs": [
    {
     "data": {
      "text/plain": [
       "<matplotlib.axes._subplots.AxesSubplot at 0x7f5c700f7c10>"
      ]
     },
     "execution_count": 5,
     "metadata": {},
     "output_type": "execute_result"
    },
    {
     "data": {
      "image/png": "[encoded data removed]",
      "text/plain": [
       "<Figure size 432x288 with 1 Axes>"
      ]
     },
     "metadata": {
      "needs_background": "light"
     },
     "output_type": "display_data"
    }
   ],
   "source": [
    "df.isnull().sum().plot(kind=\"bar\")"
   ]
  },
  {
   "cell_type": "code",
   "execution_count": 6,
   "metadata": {},
   "outputs": [
    {
     "data": {
      "text/html": [
       "<div>\n",
       "<style scoped>\n",
       "    .dataframe tbody tr th:only-of-type {\n",
       "        vertical-align: middle;\n",
       "    }\n",
       "\n",
       "    .dataframe tbody tr th {\n",
       "        vertical-align: top;\n",
       "    }\n",
       "\n",
       "    .dataframe thead th {\n",
       "        text-align: right;\n",
       "    }\n",
       "</style>\n",
       "<table border=\"1\" class=\"dataframe\">\n",
       "  <thead>\n",
       "    <tr style=\"text-align: right;\">\n",
       "      <th></th>\n",
       "      <th>target</th>\n",
       "      <th>value_law</th>\n",
       "      <th>value_business/news/graphics</th>\n",
       "      <th>value_farming</th>\n",
       "      <th>value_taxes</th>\n",
       "      <th>value_stocks</th>\n",
       "      <th>value_markets/cic/public</th>\n",
       "      <th>value_solar-energy</th>\n",
       "      <th>value_content-storythread</th>\n",
       "      <th>value_bloomberg/audio/home/dc</th>\n",
       "      <th>...</th>\n",
       "      <th>value_topicpage-Tax Evasion</th>\n",
       "      <th>value_authorpage-ARBOgwBc2RIjackieedwards</th>\n",
       "      <th>value_authorpage-AOl_VVBlN4Egregorylarkin</th>\n",
       "      <th>value_authorpage-AQgXoqAi4I0kitchellel</th>\n",
       "      <th>value_business/news/home/index</th>\n",
       "      <th>value_authorpage-AUHPsRzT7d0emmavickers</th>\n",
       "      <th>value_sectionfront-futureofbusinesstechnologyandwork</th>\n",
       "      <th>value_authorpage-AQdON9KpZn8jeffsutherland</th>\n",
       "      <th>value_gulf-coast</th>\n",
       "      <th>value_business/topic/CL</th>\n",
       "    </tr>\n",
       "  </thead>\n",
       "  <tbody>\n",
       "    <tr>\n",
       "      <th>0</th>\n",
       "      <td>0</td>\n",
       "      <td>1</td>\n",
       "      <td>0</td>\n",
       "      <td>0</td>\n",
       "      <td>0</td>\n",
       "      <td>0</td>\n",
       "      <td>0</td>\n",
       "      <td>0</td>\n",
       "      <td>0</td>\n",
       "      <td>0</td>\n",
       "      <td>...</td>\n",
       "      <td>0</td>\n",
       "      <td>0</td>\n",
       "      <td>0</td>\n",
       "      <td>0</td>\n",
       "      <td>0</td>\n",
       "      <td>0</td>\n",
       "      <td>0</td>\n",
       "      <td>0</td>\n",
       "      <td>0</td>\n",
       "      <td>0</td>\n",
       "    </tr>\n",
       "    <tr>\n",
       "      <th>1</th>\n",
       "      <td>0</td>\n",
       "      <td>0</td>\n",
       "      <td>1</td>\n",
       "      <td>0</td>\n",
       "      <td>0</td>\n",
       "      <td>0</td>\n",
       "      <td>0</td>\n",
       "      <td>0</td>\n",
       "      <td>0</td>\n",
       "      <td>0</td>\n",
       "      <td>...</td>\n",
       "      <td>0</td>\n",
       "      <td>0</td>\n",
       "      <td>0</td>\n",
       "      <td>0</td>\n",
       "      <td>0</td>\n",
       "      <td>0</td>\n",
       "      <td>0</td>\n",
       "      <td>0</td>\n",
       "      <td>0</td>\n",
       "      <td>0</td>\n",
       "    </tr>\n",
       "    <tr>\n",
       "      <th>2</th>\n",
       "      <td>0</td>\n",
       "      <td>0</td>\n",
       "      <td>0</td>\n",
       "      <td>1</td>\n",
       "      <td>0</td>\n",
       "      <td>0</td>\n",
       "      <td>0</td>\n",
       "      <td>0</td>\n",
       "      <td>0</td>\n",
       "      <td>0</td>\n",
       "      <td>...</td>\n",
       "      <td>0</td>\n",
       "      <td>0</td>\n",
       "      <td>0</td>\n",
       "      <td>0</td>\n",
       "      <td>0</td>\n",
       "      <td>0</td>\n",
       "      <td>0</td>\n",
       "      <td>0</td>\n",
       "      <td>0</td>\n",
       "      <td>0</td>\n",
       "    </tr>\n",
       "    <tr>\n",
       "      <th>3</th>\n",
       "      <td>0</td>\n",
       "      <td>0</td>\n",
       "      <td>0</td>\n",
       "      <td>0</td>\n",
       "      <td>1</td>\n",
       "      <td>0</td>\n",
       "      <td>0</td>\n",
       "      <td>0</td>\n",
       "      <td>0</td>\n",
       "      <td>0</td>\n",
       "      <td>...</td>\n",
       "      <td>0</td>\n",
       "      <td>0</td>\n",
       "      <td>0</td>\n",
       "      <td>0</td>\n",
       "      <td>0</td>\n",
       "      <td>0</td>\n",
       "      <td>0</td>\n",
       "      <td>0</td>\n",
       "      <td>0</td>\n",
       "      <td>0</td>\n",
       "    </tr>\n",
       "    <tr>\n",
       "      <th>4</th>\n",
       "      <td>0</td>\n",
       "      <td>0</td>\n",
       "      <td>0</td>\n",
       "      <td>0</td>\n",
       "      <td>0</td>\n",
       "      <td>1</td>\n",
       "      <td>0</td>\n",
       "      <td>0</td>\n",
       "      <td>0</td>\n",
       "      <td>0</td>\n",
       "      <td>...</td>\n",
       "      <td>0</td>\n",
       "      <td>0</td>\n",
       "      <td>0</td>\n",
       "      <td>0</td>\n",
       "      <td>0</td>\n",
       "      <td>0</td>\n",
       "      <td>0</td>\n",
       "      <td>0</td>\n",
       "      <td>0</td>\n",
       "      <td>0</td>\n",
       "    </tr>\n",
       "  </tbody>\n",
       "</table>\n",
       "<p>5 rows × 2962 columns</p>\n",
       "</div>"
      ],
      "text/plain": [
       "   target  value_law  value_business/news/graphics  value_farming  \\\n",
       "0       0          1                             0              0   \n",
       "1       0          0                             1              0   \n",
       "2       0          0                             0              1   \n",
       "3       0          0                             0              0   \n",
       "4       0          0                             0              0   \n",
       "\n",
       "   value_taxes  value_stocks  value_markets/cic/public  value_solar-energy  \\\n",
       "0            0             0                         0                   0   \n",
       "1            0             0                         0                   0   \n",
       "2            0             0                         0                   0   \n",
       "3            1             0                         0                   0   \n",
       "4            0             1                         0                   0   \n",
       "\n",
       "   value_content-storythread  value_bloomberg/audio/home/dc  ...  \\\n",
       "0                          0                              0  ...   \n",
       "1                          0                              0  ...   \n",
       "2                          0                              0  ...   \n",
       "3                          0                              0  ...   \n",
       "4                          0                              0  ...   \n",
       "\n",
       "   value_topicpage-Tax Evasion  value_authorpage-ARBOgwBc2RIjackieedwards  \\\n",
       "0                            0                                          0   \n",
       "1                            0                                          0   \n",
       "2                            0                                          0   \n",
       "3                            0                                          0   \n",
       "4                            0                                          0   \n",
       "\n",
       "   value_authorpage-AOl_VVBlN4Egregorylarkin  \\\n",
       "0                                          0   \n",
       "1                                          0   \n",
       "2                                          0   \n",
       "3                                          0   \n",
       "4                                          0   \n",
       "\n",
       "   value_authorpage-AQgXoqAi4I0kitchellel  value_business/news/home/index  \\\n",
       "0                                       0                               0   \n",
       "1                                       0                               0   \n",
       "2                                       0                               0   \n",
       "3                                       0                               0   \n",
       "4                                       0                               0   \n",
       "\n",
       "   value_authorpage-AUHPsRzT7d0emmavickers  \\\n",
       "0                                        0   \n",
       "1                                        0   \n",
       "2                                        0   \n",
       "3                                        0   \n",
       "4                                        0   \n",
       "\n",
       "   value_sectionfront-futureofbusinesstechnologyandwork  \\\n",
       "0                                                  0      \n",
       "1                                                  0      \n",
       "2                                                  0      \n",
       "3                                                  0      \n",
       "4                                                  0      \n",
       "\n",
       "   value_authorpage-AQdON9KpZn8jeffsutherland  value_gulf-coast  \\\n",
       "0                                           0                 0   \n",
       "1                                           0                 0   \n",
       "2                                           0                 0   \n",
       "3                                           0                 0   \n",
       "4                                           0                 0   \n",
       "\n",
       "   value_business/topic/CL  \n",
       "0                        0  \n",
       "1                        0  \n",
       "2                        0  \n",
       "3                        0  \n",
       "4                        0  \n",
       "\n",
       "[5 rows x 2962 columns]"
      ]
     },
     "execution_count": 6,
     "metadata": {},
     "output_type": "execute_result"
    }
   ],
   "source": [
    "ohe = ce.OneHotEncoder(handle_unknown='ignore', use_cat_names=True)\n",
    "\n",
    "df_dum = ohe.fit_transform(df)\n",
    "\n",
    "df_dum.head()\n"
   ]
  },
  {
   "cell_type": "markdown",
   "metadata": {},
   "source": [
    "## EDA + Feature Removal\n",
    "\n",
    "Lets start exploring our dataset and see what we can learn from these data points. "
   ]
  },
  {
   "cell_type": "code",
   "execution_count": 7,
   "metadata": {},
   "outputs": [
    {
     "name": "stdout",
     "output_type": "stream",
     "text": [
      "Percent of CSuites 33.6\n",
      "Percent of Non CSuites 66.4\n"
     ]
    }
   ],
   "source": [
    "count_test=len(df_dum[df_dum['target']==1])\n",
    "\n",
    "count_control=len(df_dum[df_dum['target']==0])\n",
    "\n",
    "pct_test=count_test/(count_test+count_control)\n",
    "\n",
    "pct_control=count_control/(count_test+count_control)\n",
    "\n",
    "print(\"Percent of CSuites\", round(pct_test*100, 2))\n",
    "\n",
    "print(\"Percent of Non CSuites\", round(pct_control*100, 2))"
   ]
  },
  {
   "cell_type": "markdown",
   "metadata": {},
   "source": [
    "Roughly 34 percent of target variables are associated with CSUITES vs 66% Non CSUITES. The data is not terribly imbalanced so I do not believe that we need to apply methods such as synthetic minority oversampling technique. \n",
    "\n",
    "Given that we already dummified our data, our EDA options are limited. We now have thousands of columns and it will be tedious to go through each column one by one. What we can do instead is to pick modeling methods that do not have such strict assumptions as a logistic regression. We still have the ability to remove features. Feature importance by decision trees is one method. We can also remove highly correlated features. Dropping features is an essential part of the modeling process to avoid running into problems with dimensionality. \n",
    "\n",
    "Lets first remove highly correlated predictors. Before removing highly correlated predictors, I am going to split my dataset into X subset for variables and Y dataset for target variable. This is something that python requires. I believe its done this way in order to enhance operation speed. This is another example when packages are maintained by computer scientists vs statasticians. In R, we define the explicit model using Y~X1+X2... "
   ]
  },
  {
   "cell_type": "code",
   "execution_count": 30,
   "metadata": {},
   "outputs": [
    {
     "data": {
      "text/plain": [
       "(4328, 2961)"
      ]
     },
     "execution_count": 30,
     "metadata": {},
     "output_type": "execute_result"
    }
   ],
   "source": [
    "#Splitting the target vector from the feature matrix is a syntax requiremen. This is not done in r\n",
    "\n",
    "X=df_dum.drop(columns='target')\n",
    "\n",
    "Y=df_dum['target'].copy() \n",
    "\n",
    "X.shape\n"
   ]
  },
  {
   "cell_type": "code",
   "execution_count": 31,
   "metadata": {},
   "outputs": [
    {
     "data": {
      "text/plain": [
       "count    4328.000000\n",
       "mean        0.335952\n",
       "std         0.472377\n",
       "min         0.000000\n",
       "25%         0.000000\n",
       "50%         0.000000\n",
       "75%         1.000000\n",
       "max         1.000000\n",
       "Name: target, dtype: float64"
      ]
     },
     "execution_count": 31,
     "metadata": {},
     "output_type": "execute_result"
    }
   ],
   "source": [
    "Y.describe()"
   ]
  },
  {
   "cell_type": "code",
   "execution_count": 32,
   "metadata": {},
   "outputs": [
    {
     "data": {
      "text/plain": [
       "[]"
      ]
     },
     "execution_count": 32,
     "metadata": {},
     "output_type": "execute_result"
    }
   ],
   "source": [
    "# Create correlation matrix\n",
    "corr_matrix = X.corr().abs()\n",
    "#print(); print(corr_matrix)\n",
    "\n",
    "# Select upper triangle of correlation matrix\n",
    "upper = corr_matrix.where(np.triu(np.ones(corr_matrix.shape),\n",
    "                                      k=1).astype(np.bool))\n",
    "#print(); print(upper)\n",
    "\n",
    "# Find index of feature columns with correlation greater than 0.95\n",
    "to_drop = [column for column in upper.columns if any(upper[column] > 0.70)]\n",
    "#print(); print(to_drop)\n",
    "\n",
    "to_drop"
   ]
  },
  {
   "cell_type": "code",
   "execution_count": 33,
   "metadata": {},
   "outputs": [
    {
     "data": {
      "text/plain": [
       "(4328, 2961)"
      ]
     },
     "execution_count": 33,
     "metadata": {},
     "output_type": "execute_result"
    }
   ],
   "source": [
    "# Drop Marked Features\n",
    "X1 = X.drop(X.columns[to_drop], axis=1)\n",
    "#print(); print(X1)\n",
    "X1.shape"
   ]
  },
  {
   "cell_type": "markdown",
   "metadata": {},
   "source": [
    "Based on our output, there was no change in the number of features. This could only mean that there are no highly correlated predcitors at the moment. I will bypass using zero variance feature removal as well since we know through experience that data points such as adcode or brand are almost always varied in terms of number of unique values. We might need to build some initial models AND then view influential features to start removing features. In order to clear up some memory, we will delete X1. "
   ]
  },
  {
   "cell_type": "code",
   "execution_count": 34,
   "metadata": {},
   "outputs": [],
   "source": [
    "del X1 "
   ]
  },
  {
   "cell_type": "markdown",
   "metadata": {},
   "source": [
    "## Benchmark Modeling \n",
    "\n",
    "We are going to build initial models using the data as is. These will be benchmark models. The purpose here is to get a baseline accuracy per model so we can pick which model to focus on for parameter tunning and feature removal. \n",
    "\n",
    "We are going to split our data into a training and test set using an 80/20 ratio. That means we are going to train our model on 80 percent of the data and use the remaining 20 percent to test our model performance. Once we feel happy enough with our models, we will deploy them against a validiation training set which are visitors from the month of June. The goal is to create a platform segment if modeled users using our best performing model. \n",
    "\n",
    "Note: Random State=42 is a Pseudo-random number that makes sure the data is split in the same way every time this code is run, otherwise we could get different results. The choice of random number is mostly arbitrary. I picked 42 because that is the meaning of life. \n",
    "\n",
    "We are going to try several classification models and then choose to improve the model which shows the highest accuracy when tested against the test data. "
   ]
  },
  {
   "cell_type": "code",
   "execution_count": 35,
   "metadata": {},
   "outputs": [],
   "source": [
    "X_train, X_test, y_train, y_test = train_test_split(X, Y, test_size = 0.3, random_state = 42)"
   ]
  },
  {
   "cell_type": "markdown",
   "metadata": {},
   "source": [
    "### Naive - Bayes "
   ]
  },
  {
   "cell_type": "code",
   "execution_count": 43,
   "metadata": {},
   "outputs": [
    {
     "name": "stdout",
     "output_type": "stream",
     "text": [
      "              precision    recall  f1-score   support\n",
      "\n",
      "           0       0.68      1.00      0.81       884\n",
      "           1       1.00      0.00      0.00       415\n",
      "\n",
      "    accuracy                           0.68      1299\n",
      "   macro avg       0.84      0.50      0.40      1299\n",
      "weighted avg       0.78      0.68      0.55      1299\n",
      "\n"
     ]
    },
    {
     "data": {
      "text/plain": [
       "<matplotlib.axes._subplots.AxesSubplot at 0x7f5c5432ee90>"
      ]
     },
     "execution_count": 43,
     "metadata": {},
     "output_type": "execute_result"
    },
    {
     "data": {
      "image/png": "[encoded data removed]",
      "text/plain": [
       "<Figure size 432x288 with 1 Axes>"
      ]
     },
     "metadata": {
      "needs_background": "light"
     },
     "output_type": "display_data"
    }
   ],
   "source": [
    "# Naive Bayes\n",
    "\n",
    "gnb = BernoulliNB()\n",
    "\n",
    "nb_pred = gnb.fit(X_train, y_train).predict(X_test)\n",
    "\n",
    "print(metrics.classification_report(y_test, nb_pred,zero_division=1))\n",
    "\n",
    "sns.heatmap(confusion_matrix(y_test,nb_pred),cmap=\"viridis\",lw = 2,annot=True,cbar=False, fmt='g')"
   ]
  },
  {
   "cell_type": "markdown",
   "metadata": {},
   "source": [
    "Naive Bayes model had an accuracy of 0.08 percent. This is considered to be very poor performing in term of accuracy. Lets take a moment and understand everything that is going on. \n",
    "\n",
    "Accuracy is the overall measure of correct predicitions. \n",
    "\n",
    "Precision is the measure of labeling data as CSuite even though they were not.  \n",
    "\n",
    "Recall is the percent of correct CSuites did our model catch. \n",
    "\n",
    "F1 is what percent of CSuites did we predict correctly. \n",
    "\n",
    "Our confusion matrix reveals that we did not classify a single row as non CSuite. We correctly predicted 65 rows as CSuites. We incorrectly predicted 212 non CSuites as CSuites and incorrectly predicted 589 Non CSuites as CSuites. \n",
    "\n",
    "Note: Predicted would be the \"x axis\" and actuals are the \" y axis\". This is default. "
   ]
  },
  {
   "cell_type": "markdown",
   "metadata": {},
   "source": [
    "### Logisitc Regression"
   ]
  },
  {
   "cell_type": "code",
   "execution_count": 42,
   "metadata": {},
   "outputs": [
    {
     "name": "stdout",
     "output_type": "stream",
     "text": [
      "              precision    recall  f1-score   support\n",
      "\n",
      "           0       0.68      1.00      0.81       884\n",
      "           1       1.00      0.00      0.00       415\n",
      "\n",
      "    accuracy                           0.68      1299\n",
      "   macro avg       0.84      0.50      0.40      1299\n",
      "weighted avg       0.78      0.68      0.55      1299\n",
      "\n"
     ]
    },
    {
     "data": {
      "text/plain": [
       "<matplotlib.axes._subplots.AxesSubplot at 0x7f5c543b4050>"
      ]
     },
     "execution_count": 42,
     "metadata": {},
     "output_type": "execute_result"
    },
    {
     "data": {
      "image/png": "[encoded data removed]",
      "text/plain": [
       "<Figure size 432x288 with 1 Axes>"
      ]
     },
     "metadata": {
      "needs_background": "light"
     },
     "output_type": "display_data"
    }
   ],
   "source": [
    "reg_log = LogisticRegression()\n",
    "\n",
    "reg_log.fit(X_train, y_train)\n",
    "\n",
    "log_pred = reg_log.predict(X_test)\n",
    "\n",
    "print(metrics.classification_report(y_test, log_pred, zero_division=1))\n",
    "\n",
    "sns.heatmap(confusion_matrix(y_test,log_pred),cmap=\"viridis\",lw = 2,annot=True,cbar=False, fmt='g')"
   ]
  },
  {
   "cell_type": "markdown",
   "metadata": {},
   "source": [
    "Even though we get an overall accuracy of 68 percent, the mathematics behind logisitc regression seem to be failing. This could be due dimensionality. We probably will need to use PCA dimension reduction or AIC backfitting (computationally heavy) if we want to continue using this model. Our results say that we are not able to predict any CSuites using logisitc regression. \n",
    "\n",
    "### Random Forest "
   ]
  },
  {
   "cell_type": "code",
   "execution_count": 44,
   "metadata": {},
   "outputs": [
    {
     "name": "stdout",
     "output_type": "stream",
     "text": [
      "              precision    recall  f1-score   support\n",
      "\n",
      "           0       0.58      0.65      0.62       884\n",
      "           1       0.00      0.00      0.00       415\n",
      "\n",
      "    accuracy                           0.44      1299\n",
      "   macro avg       0.29      0.33      0.31      1299\n",
      "weighted avg       0.40      0.44      0.42      1299\n",
      "\n"
     ]
    },
    {
     "data": {
      "text/plain": [
       "<matplotlib.axes._subplots.AxesSubplot at 0x7f5c54300210>"
      ]
     },
     "execution_count": 44,
     "metadata": {},
     "output_type": "execute_result"
    },
    {
     "data": {
      "image/png": "[encoded data removed]",
      "text/plain": [
       "<Figure size 432x288 with 1 Axes>"
      ]
     },
     "metadata": {
      "needs_background": "light"
     },
     "output_type": "display_data"
    }
   ],
   "source": [
    "reg_rf = RandomForestClassifier()\n",
    "\n",
    "reg_rf.fit(X_train, y_train)\n",
    "\n",
    "rf_pred = reg_rf.predict(X_test)\n",
    "\n",
    "print(metrics.classification_report(y_test, rf_pred))\n",
    "\n",
    "sns.heatmap(confusion_matrix(y_test,rf_pred),cmap=\"viridis\",lw = 2,annot=True,cbar=False, fmt='g')"
   ]
  },
  {
   "cell_type": "markdown",
   "metadata": {},
   "source": [
    "### SVM"
   ]
  },
  {
   "cell_type": "code",
   "execution_count": 45,
   "metadata": {},
   "outputs": [
    {
     "name": "stdout",
     "output_type": "stream",
     "text": [
      "              precision    recall  f1-score   support\n",
      "\n",
      "           0       0.58      0.65      0.61       884\n",
      "           1       0.00      0.00      0.00       415\n",
      "\n",
      "    accuracy                           0.44      1299\n",
      "   macro avg       0.29      0.33      0.31      1299\n",
      "weighted avg       0.40      0.44      0.42      1299\n",
      "\n"
     ]
    },
    {
     "data": {
      "text/plain": [
       "<matplotlib.axes._subplots.AxesSubplot at 0x7f5c54220150>"
      ]
     },
     "execution_count": 45,
     "metadata": {},
     "output_type": "execute_result"
    },
    {
     "data": {
      "image/png": "[encoded data removed]",
      "text/plain": [
       "<Figure size 432x288 with 1 Axes>"
      ]
     },
     "metadata": {
      "needs_background": "light"
     },
     "output_type": "display_data"
    }
   ],
   "source": [
    "reg_svc = SVC()\n",
    "\n",
    "reg_svc.fit(X_train, y_train)\n",
    "\n",
    "svm_pred = reg_svc.predict(X_test)\n",
    "\n",
    "print(metrics.classification_report(y_test, svm_pred))\n",
    "\n",
    "sns.heatmap(confusion_matrix(y_test,svm_pred),cmap=\"viridis\",lw = 2,annot=True,cbar=False, fmt='g')"
   ]
  },
  {
   "cell_type": "markdown",
   "metadata": {},
   "source": [
    "### KNN"
   ]
  },
  {
   "cell_type": "code",
   "execution_count": 46,
   "metadata": {},
   "outputs": [
    {
     "name": "stdout",
     "output_type": "stream",
     "text": [
      "              precision    recall  f1-score   support\n",
      "\n",
      "           0       0.68      0.82      0.74       884\n",
      "           1       0.30      0.16      0.21       415\n",
      "\n",
      "    accuracy                           0.61      1299\n",
      "   macro avg       0.49      0.49      0.48      1299\n",
      "weighted avg       0.56      0.61      0.57      1299\n",
      "\n"
     ]
    },
    {
     "data": {
      "text/plain": [
       "<matplotlib.axes._subplots.AxesSubplot at 0x7f5c541f8f10>"
      ]
     },
     "execution_count": 46,
     "metadata": {},
     "output_type": "execute_result"
    },
    {
     "data": {
      "image/png": "[encoded data removed]",
      "text/plain": [
       "<Figure size 432x288 with 1 Axes>"
      ]
     },
     "metadata": {
      "needs_background": "light"
     },
     "output_type": "display_data"
    }
   ],
   "source": [
    "reg_knn = KNeighborsClassifier()\n",
    "\n",
    "reg_knn.fit(X_train, y_train)\n",
    "\n",
    "knn_pred = reg_knn.predict(X_test)\n",
    "\n",
    "print(metrics.classification_report(y_test, knn_pred))\n",
    "\n",
    "sns.heatmap(confusion_matrix(y_test,knn_pred),cmap=\"viridis\",lw = 2,annot=True,cbar=False, fmt='g')"
   ]
  },
  {
   "cell_type": "markdown",
   "metadata": {},
   "source": [
    "### For Next Time...\n",
    "\n",
    "Lets recap what we did here. We wrote some SQL that cleaned up the data by removing missing values, assigned label vector to each data point, and merged several features together. We then imported the data into our python enviorment. We examined the steps required to reshape the data into a form that is compatible with SKLearn. We build some benchmark models. There are benchmark models due to the fact that we did not do any statistical feature selecton yet. We simply want a base reading on how different models perform before we do a deep dive into statsitical feature selection. \n",
    "\n",
    "We need to evaluate:\n",
    "\n",
    "- Hyper parameter tunning (Max depgh of a tree, number of layers in a nueral network, learning rate threshold for gradient decent, or number of k clusters) \n",
    "\n",
    "- Rigorous Feature Selection \n",
    "\n",
    "- potentially adding cross validation \n",
    "\n",
    "- Re-Run models and pick the best performing \n",
    "\n",
    "- Make predictions \n",
    "\n",
    "- Save the best performing model as a \"pickle\" object \n",
    "\n",
    "- deploy model against validation data and score predictions to generate platform segment of modeled CSUITES "
   ]
  }
 ],
 "metadata": {
  "environment": {
   "name": "common-cpu.m49",
   "type": "gcloud",
   "uri": "gcr.io/deeplearning-platform-release/base-cpu:m49"
  },
  "kernelspec": {
   "display_name": "Python 3",
   "language": "python",
   "name": "python3"
  },
  "language_info": {
   "codemirror_mode": {
    "name": "ipython",
    "version": 3
   },
   "file_extension": ".py",
   "mimetype": "text/x-python",
   "name": "python",
   "nbconvert_exporter": "python",
   "pygments_lexer": "ipython3",
   "version": "3.7.6"
  }
 },
 "nbformat": 4,
 "nbformat_minor": 4
}
